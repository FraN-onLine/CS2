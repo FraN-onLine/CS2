{
 "cells": [
  {
   "attachments": {},
   "cell_type": "markdown",
   "metadata": {},
   "source": [
    "# CS172 Laboratory Activity 1\n",
    ">This laboratory exercise shall serve as a review of your knowledge of basic Python programming.  Create a python code that will solve the problem.\n",
    "\n",
    "## Problem\n",
    "> Alejandro bought 5 lots with a market value of Php 500,000.00 last 2021.  The market value of the 5 lots is expected to increase by 30% every year.  Compute and display the estimated market value of the property for the year 2023.  Document the parts of your code using the text cell/section.  \n",
    "\n",
    "## Rubric\n",
    "| Criteria                     | Poor | Fair  | Good  | Very Good  |\n",
    "|------------------------------|------|------|------|-----------|\n",
    "|  1.  **Correctness of the Output**   | No Submission. *(0 Point)*| Less than 50% of the target output was met. *(1 Point)* | At least 50% of the target output was met. *(2 Points)* | All of the target output was met. *(3 Points)* |\n",
    "| 2.  **Correctness of the Algorithm** | No Submission *(0 Point)* | The applied algorithm needs major revision. *(1 Point)* | The applied algorithm needs minor revision. *(3 Points)* | The applied algorithm is correctly implemented. *(6 Points)* |\n",
    "| 3.  **Documentation** | No Submission. *(0 Point)* | Less than 50% of the code is documented. *(1 Point)* | 70% of the code is documented. *(2 Points)* | 100% of the code is documented. *(3 Points)*\n"
   ]
  },
  {
   "cell_type": "code",
   "execution_count": 111,
   "metadata": {},
   "outputs": [],
   "source": [
    "#Marker Value Calculation:\n",
    "#Market Value * (Rate + 1)**years passed"
   ]
  },
  {
   "cell_type": "code",
   "execution_count": 112,
   "metadata": {},
   "outputs": [],
   "source": [
    "marketValue = 500000.00 #original market value by initial year\n",
    "year = 2021 #initial year\n",
    "targetYear = 2023 #targetted year\n",
    "increaseRate = 1.3 #this is how much the market value will increase by each year 1.3 = 30% increase\n",
    "#initialization of required values like market value and etc."
   ]
  },
  {
   "cell_type": "code",
   "execution_count": 113,
   "metadata": {},
   "outputs": [],
   "source": [
    "#loop method:\n",
    "while ( year < targetYear): #stops when target is reached\n",
    "    marketValue *= increaseRate #increases the lot's market value each time a year passes\n",
    "    year += 1 #simulates the passing of a year"
   ]
  },
  {
   "cell_type": "code",
   "execution_count": 114,
   "metadata": {},
   "outputs": [],
   "source": [
    "#alternatively, 500000.00 * (1.3)**2 is a viable solution\n",
    "if( year != targetYear): #if its not calculated by the solution above\n",
    "    marketValue *= increaseRate**(targetYear - year) #following the formula of future value PV * (1 + r)**n"
   ]
  },
  {
   "cell_type": "code",
   "execution_count": 115,
   "metadata": {},
   "outputs": [
    {
     "name": "stdout",
     "output_type": "stream",
     "text": [
      "Estimated Market Value of the property for the year 2023 is  845000.00\n"
     ]
    }
   ],
   "source": [
    "print(f\"Estimated Market Value of the property for the year {targetYear} is {marketValue: .2f}\") #prints the market value by target year"
   ]
  }
 ],
 "metadata": {
  "kernelspec": {
   "display_name": "Python 3 (ipykernel)",
   "language": "python",
   "name": "python3"
  },
  "language_info": {
   "codemirror_mode": {
    "name": "ipython",
    "version": 3
   },
   "file_extension": ".py",
   "mimetype": "text/x-python",
   "name": "python",
   "nbconvert_exporter": "python",
   "pygments_lexer": "ipython3",
   "version": "3.10.12"
  },
  "vscode": {
   "interpreter": {
    "hash": "b5e55ce9ad9ae4c35684bdc763bff28a7598a3fba4a6253ce8a75ed15f6c6fcd"
   }
  }
 },
 "nbformat": 4,
 "nbformat_minor": 4
}
